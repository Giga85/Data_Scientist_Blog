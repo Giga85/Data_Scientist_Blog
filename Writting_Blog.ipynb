{
 "cells": [
  {
   "cell_type": "markdown",
   "id": "dcbcfa18",
   "metadata": {},
   "source": [
    "# Project: Writing a Data Scientist Blog Post - Seattle Airbnb Data\n",
    "\n",
    "## Overview\n",
    "\n",
    "\n",
    "In this project, I will explore the Seattle Airbnb Data to answer some business questions.\n",
    "\n",
    "I will use data doaloaded from Kaggle (https://www.kaggle.com/datasets) and follow the CRISP-DM Process while analyzing the data.\n"
   ]
  },
  {
   "cell_type": "markdown",
   "id": "360db5d5",
   "metadata": {},
   "source": [
    "## 1. Business Understanding\n",
    "\n",
    "1. What is the average price per night by Year, Month or Weekday?\n",
    "2. What are the busiest month of the year?\n",
    "3. What kind of rooms are there and how many room are there in each?\n",
    "4. What are the average price of room types?\n",
    "5. What kind of properties are there and how many propertis are there in each?\n",
    "6. What are the average prices for the different room and property types?\n",
    "7. What are the average prices for the different room types and weekday?"
   ]
  },
  {
   "cell_type": "markdown",
   "id": "82c878e9",
   "metadata": {},
   "source": [
    "## 2. Data Understanding"
   ]
  },
  {
   "cell_type": "markdown",
   "id": "b3d7fd47",
   "metadata": {},
   "source": [
    "### Import Libraries "
   ]
  },
  {
   "cell_type": "code",
   "execution_count": 1,
   "id": "9ff9c116",
   "metadata": {},
   "outputs": [],
   "source": [
    "import pandas as pd\n",
    "import datetime as dt\n",
    "import numpy as np\n",
    "import seaborn as sn\n",
    "import matplotlib.pyplot as plt\n",
    "%matplotlib inline"
   ]
  },
  {
   "cell_type": "markdown",
   "id": "5a1bf158",
   "metadata": {},
   "source": [
    "### Data Gathering"
   ]
  },
  {
   "cell_type": "markdown",
   "id": "a75e1a6b",
   "metadata": {},
   "source": [
    "The dataset used in this project includes the following files:\n",
    "    \n",
    "    calendar.csv\n",
    "    listings.csv\n",
    "    reviews.csv"
   ]
  },
  {
   "cell_type": "code",
   "execution_count": 2,
   "id": "c5c1640c",
   "metadata": {},
   "outputs": [],
   "source": [
    "df_cal = pd.read_csv('calendar.csv')\n",
    "df_lis = pd.read_csv('listings.csv')\n",
    "df_rev = pd.read_csv('reviews.csv')"
   ]
  },
  {
   "cell_type": "markdown",
   "id": "df2f28ad",
   "metadata": {},
   "source": [
    "### Data Assessment"
   ]
  },
  {
   "cell_type": "markdown",
   "id": "536d0f41",
   "metadata": {},
   "source": [
    "#### Calendar dataset:"
   ]
  },
  {
   "cell_type": "code",
   "execution_count": 3,
   "id": "605816a9",
   "metadata": {},
   "outputs": [
    {
     "data": {
      "text/html": [
       "<div>\n",
       "<style scoped>\n",
       "    .dataframe tbody tr th:only-of-type {\n",
       "        vertical-align: middle;\n",
       "    }\n",
       "\n",
       "    .dataframe tbody tr th {\n",
       "        vertical-align: top;\n",
       "    }\n",
       "\n",
       "    .dataframe thead th {\n",
       "        text-align: right;\n",
       "    }\n",
       "</style>\n",
       "<table border=\"1\" class=\"dataframe\">\n",
       "  <thead>\n",
       "    <tr style=\"text-align: right;\">\n",
       "      <th></th>\n",
       "      <th>listing_id</th>\n",
       "      <th>date</th>\n",
       "      <th>available</th>\n",
       "      <th>price</th>\n",
       "    </tr>\n",
       "  </thead>\n",
       "  <tbody>\n",
       "    <tr>\n",
       "      <th>0</th>\n",
       "      <td>241032</td>\n",
       "      <td>2016-01-04</td>\n",
       "      <td>t</td>\n",
       "      <td>$85.00</td>\n",
       "    </tr>\n",
       "    <tr>\n",
       "      <th>1</th>\n",
       "      <td>241032</td>\n",
       "      <td>2016-01-05</td>\n",
       "      <td>t</td>\n",
       "      <td>$85.00</td>\n",
       "    </tr>\n",
       "    <tr>\n",
       "      <th>2</th>\n",
       "      <td>241032</td>\n",
       "      <td>2016-01-06</td>\n",
       "      <td>f</td>\n",
       "      <td>NaN</td>\n",
       "    </tr>\n",
       "  </tbody>\n",
       "</table>\n",
       "</div>"
      ],
      "text/plain": [
       "   listing_id        date available   price\n",
       "0      241032  2016-01-04         t  $85.00\n",
       "1      241032  2016-01-05         t  $85.00\n",
       "2      241032  2016-01-06         f     NaN"
      ]
     },
     "execution_count": 3,
     "metadata": {},
     "output_type": "execute_result"
    }
   ],
   "source": [
    "df_cal.head(3)"
   ]
  },
  {
   "cell_type": "code",
   "execution_count": 4,
   "id": "5130636e",
   "metadata": {},
   "outputs": [
    {
     "data": {
      "text/plain": [
       "(1393570, 4)"
      ]
     },
     "execution_count": 4,
     "metadata": {},
     "output_type": "execute_result"
    }
   ],
   "source": [
    "df_cal.shape"
   ]
  },
  {
   "cell_type": "code",
   "execution_count": 5,
   "id": "857e5527",
   "metadata": {},
   "outputs": [
    {
     "data": {
      "text/plain": [
       "listing_id    3818\n",
       "date           365\n",
       "available        2\n",
       "price          669\n",
       "dtype: int64"
      ]
     },
     "execution_count": 5,
     "metadata": {},
     "output_type": "execute_result"
    }
   ],
   "source": [
    "df_cal.nunique()"
   ]
  },
  {
   "cell_type": "code",
   "execution_count": 6,
   "id": "b79bab4e",
   "metadata": {},
   "outputs": [
    {
     "data": {
      "text/plain": [
       "listing_id         0\n",
       "date               0\n",
       "available          0\n",
       "price         459028\n",
       "dtype: int64"
      ]
     },
     "execution_count": 6,
     "metadata": {},
     "output_type": "execute_result"
    }
   ],
   "source": [
    "df_cal.isnull().sum()"
   ]
  },
  {
   "cell_type": "code",
   "execution_count": 7,
   "id": "2cedfa8b",
   "metadata": {},
   "outputs": [
    {
     "name": "stdout",
     "output_type": "stream",
     "text": [
      "<class 'pandas.core.frame.DataFrame'>\n",
      "RangeIndex: 1393570 entries, 0 to 1393569\n",
      "Data columns (total 4 columns):\n",
      " #   Column      Non-Null Count    Dtype \n",
      "---  ------      --------------    ----- \n",
      " 0   listing_id  1393570 non-null  int64 \n",
      " 1   date        1393570 non-null  object\n",
      " 2   available   1393570 non-null  object\n",
      " 3   price       934542 non-null   object\n",
      "dtypes: int64(1), object(3)\n",
      "memory usage: 42.5+ MB\n"
     ]
    }
   ],
   "source": [
    "df_cal.info()"
   ]
  },
  {
   "cell_type": "markdown",
   "id": "0c9eb5ae",
   "metadata": {},
   "source": [
    "For the calendar dataset: It has 4 columns: listing_id, date, available, price.\n",
    "   \n",
    "available column contains values t/f meaning true/false\n",
    "\n",
    "There are some values in column price\n",
    "price values must be float and date must be datetime.\n"
   ]
  },
  {
   "cell_type": "markdown",
   "id": "b8387adb",
   "metadata": {},
   "source": [
    "#### Lists dataset:"
   ]
  },
  {
   "cell_type": "code",
   "execution_count": 8,
   "id": "7f126f26",
   "metadata": {},
   "outputs": [
    {
     "data": {
      "text/html": [
       "<div>\n",
       "<style scoped>\n",
       "    .dataframe tbody tr th:only-of-type {\n",
       "        vertical-align: middle;\n",
       "    }\n",
       "\n",
       "    .dataframe tbody tr th {\n",
       "        vertical-align: top;\n",
       "    }\n",
       "\n",
       "    .dataframe thead th {\n",
       "        text-align: right;\n",
       "    }\n",
       "</style>\n",
       "<table border=\"1\" class=\"dataframe\">\n",
       "  <thead>\n",
       "    <tr style=\"text-align: right;\">\n",
       "      <th></th>\n",
       "      <th>id</th>\n",
       "      <th>listing_url</th>\n",
       "      <th>scrape_id</th>\n",
       "      <th>last_scraped</th>\n",
       "      <th>name</th>\n",
       "      <th>summary</th>\n",
       "      <th>space</th>\n",
       "      <th>description</th>\n",
       "      <th>experiences_offered</th>\n",
       "      <th>neighborhood_overview</th>\n",
       "      <th>...</th>\n",
       "      <th>review_scores_value</th>\n",
       "      <th>requires_license</th>\n",
       "      <th>license</th>\n",
       "      <th>jurisdiction_names</th>\n",
       "      <th>instant_bookable</th>\n",
       "      <th>cancellation_policy</th>\n",
       "      <th>require_guest_profile_picture</th>\n",
       "      <th>require_guest_phone_verification</th>\n",
       "      <th>calculated_host_listings_count</th>\n",
       "      <th>reviews_per_month</th>\n",
       "    </tr>\n",
       "  </thead>\n",
       "  <tbody>\n",
       "    <tr>\n",
       "      <th>0</th>\n",
       "      <td>241032</td>\n",
       "      <td>https://www.airbnb.com/rooms/241032</td>\n",
       "      <td>20160104002432</td>\n",
       "      <td>2016-01-04</td>\n",
       "      <td>Stylish Queen Anne Apartment</td>\n",
       "      <td>NaN</td>\n",
       "      <td>Make your self at home in this charming one-be...</td>\n",
       "      <td>Make your self at home in this charming one-be...</td>\n",
       "      <td>none</td>\n",
       "      <td>NaN</td>\n",
       "      <td>...</td>\n",
       "      <td>10.0</td>\n",
       "      <td>f</td>\n",
       "      <td>NaN</td>\n",
       "      <td>WASHINGTON</td>\n",
       "      <td>f</td>\n",
       "      <td>moderate</td>\n",
       "      <td>f</td>\n",
       "      <td>f</td>\n",
       "      <td>2</td>\n",
       "      <td>4.07</td>\n",
       "    </tr>\n",
       "    <tr>\n",
       "      <th>1</th>\n",
       "      <td>953595</td>\n",
       "      <td>https://www.airbnb.com/rooms/953595</td>\n",
       "      <td>20160104002432</td>\n",
       "      <td>2016-01-04</td>\n",
       "      <td>Bright &amp; Airy Queen Anne Apartment</td>\n",
       "      <td>Chemically sensitive? We've removed the irrita...</td>\n",
       "      <td>Beautiful, hypoallergenic apartment in an extr...</td>\n",
       "      <td>Chemically sensitive? We've removed the irrita...</td>\n",
       "      <td>none</td>\n",
       "      <td>Queen Anne is a wonderful, truly functional vi...</td>\n",
       "      <td>...</td>\n",
       "      <td>10.0</td>\n",
       "      <td>f</td>\n",
       "      <td>NaN</td>\n",
       "      <td>WASHINGTON</td>\n",
       "      <td>f</td>\n",
       "      <td>strict</td>\n",
       "      <td>t</td>\n",
       "      <td>t</td>\n",
       "      <td>6</td>\n",
       "      <td>1.48</td>\n",
       "    </tr>\n",
       "    <tr>\n",
       "      <th>2</th>\n",
       "      <td>3308979</td>\n",
       "      <td>https://www.airbnb.com/rooms/3308979</td>\n",
       "      <td>20160104002432</td>\n",
       "      <td>2016-01-04</td>\n",
       "      <td>New Modern House-Amazing water view</td>\n",
       "      <td>New modern house built in 2013.  Spectacular s...</td>\n",
       "      <td>Our house is modern, light and fresh with a wa...</td>\n",
       "      <td>New modern house built in 2013.  Spectacular s...</td>\n",
       "      <td>none</td>\n",
       "      <td>Upper Queen Anne is a charming neighborhood fu...</td>\n",
       "      <td>...</td>\n",
       "      <td>10.0</td>\n",
       "      <td>f</td>\n",
       "      <td>NaN</td>\n",
       "      <td>WASHINGTON</td>\n",
       "      <td>f</td>\n",
       "      <td>strict</td>\n",
       "      <td>f</td>\n",
       "      <td>f</td>\n",
       "      <td>2</td>\n",
       "      <td>1.15</td>\n",
       "    </tr>\n",
       "  </tbody>\n",
       "</table>\n",
       "<p>3 rows × 92 columns</p>\n",
       "</div>"
      ],
      "text/plain": [
       "        id                           listing_url       scrape_id last_scraped  \\\n",
       "0   241032   https://www.airbnb.com/rooms/241032  20160104002432   2016-01-04   \n",
       "1   953595   https://www.airbnb.com/rooms/953595  20160104002432   2016-01-04   \n",
       "2  3308979  https://www.airbnb.com/rooms/3308979  20160104002432   2016-01-04   \n",
       "\n",
       "                                  name  \\\n",
       "0         Stylish Queen Anne Apartment   \n",
       "1   Bright & Airy Queen Anne Apartment   \n",
       "2  New Modern House-Amazing water view   \n",
       "\n",
       "                                             summary  \\\n",
       "0                                                NaN   \n",
       "1  Chemically sensitive? We've removed the irrita...   \n",
       "2  New modern house built in 2013.  Spectacular s...   \n",
       "\n",
       "                                               space  \\\n",
       "0  Make your self at home in this charming one-be...   \n",
       "1  Beautiful, hypoallergenic apartment in an extr...   \n",
       "2  Our house is modern, light and fresh with a wa...   \n",
       "\n",
       "                                         description experiences_offered  \\\n",
       "0  Make your self at home in this charming one-be...                none   \n",
       "1  Chemically sensitive? We've removed the irrita...                none   \n",
       "2  New modern house built in 2013.  Spectacular s...                none   \n",
       "\n",
       "                               neighborhood_overview  ... review_scores_value  \\\n",
       "0                                                NaN  ...                10.0   \n",
       "1  Queen Anne is a wonderful, truly functional vi...  ...                10.0   \n",
       "2  Upper Queen Anne is a charming neighborhood fu...  ...                10.0   \n",
       "\n",
       "  requires_license license jurisdiction_names instant_bookable  \\\n",
       "0                f     NaN         WASHINGTON                f   \n",
       "1                f     NaN         WASHINGTON                f   \n",
       "2                f     NaN         WASHINGTON                f   \n",
       "\n",
       "  cancellation_policy  require_guest_profile_picture  \\\n",
       "0            moderate                              f   \n",
       "1              strict                              t   \n",
       "2              strict                              f   \n",
       "\n",
       "  require_guest_phone_verification calculated_host_listings_count  \\\n",
       "0                                f                              2   \n",
       "1                                t                              6   \n",
       "2                                f                              2   \n",
       "\n",
       "  reviews_per_month  \n",
       "0              4.07  \n",
       "1              1.48  \n",
       "2              1.15  \n",
       "\n",
       "[3 rows x 92 columns]"
      ]
     },
     "execution_count": 8,
     "metadata": {},
     "output_type": "execute_result"
    }
   ],
   "source": [
    "df_lis.head(3)"
   ]
  },
  {
   "cell_type": "code",
   "execution_count": 9,
   "id": "fd2d12b1",
   "metadata": {},
   "outputs": [
    {
     "data": {
      "text/plain": [
       "(3818, 92)"
      ]
     },
     "execution_count": 9,
     "metadata": {},
     "output_type": "execute_result"
    }
   ],
   "source": [
    "df_lis.shape"
   ]
  },
  {
   "cell_type": "code",
   "execution_count": 10,
   "id": "fcf8dc9e",
   "metadata": {},
   "outputs": [
    {
     "data": {
      "text/plain": [
       "id                                    0\n",
       "listing_url                           0\n",
       "scrape_id                             0\n",
       "last_scraped                          0\n",
       "name                                  0\n",
       "                                   ... \n",
       "cancellation_policy                   0\n",
       "require_guest_profile_picture         0\n",
       "require_guest_phone_verification      0\n",
       "calculated_host_listings_count        0\n",
       "reviews_per_month                   627\n",
       "Length: 92, dtype: int64"
      ]
     },
     "execution_count": 10,
     "metadata": {},
     "output_type": "execute_result"
    }
   ],
   "source": [
    "df_lis.isnull().sum()"
   ]
  },
  {
   "cell_type": "markdown",
   "id": "d37124dd",
   "metadata": {},
   "source": [
    "Lists dataset has 92 columns listing the properties and its information"
   ]
  },
  {
   "cell_type": "markdown",
   "id": "67610949",
   "metadata": {},
   "source": [
    "#### Review dataset:"
   ]
  },
  {
   "cell_type": "code",
   "execution_count": 11,
   "id": "66372bc0",
   "metadata": {},
   "outputs": [
    {
     "data": {
      "text/html": [
       "<div>\n",
       "<style scoped>\n",
       "    .dataframe tbody tr th:only-of-type {\n",
       "        vertical-align: middle;\n",
       "    }\n",
       "\n",
       "    .dataframe tbody tr th {\n",
       "        vertical-align: top;\n",
       "    }\n",
       "\n",
       "    .dataframe thead th {\n",
       "        text-align: right;\n",
       "    }\n",
       "</style>\n",
       "<table border=\"1\" class=\"dataframe\">\n",
       "  <thead>\n",
       "    <tr style=\"text-align: right;\">\n",
       "      <th></th>\n",
       "      <th>listing_id</th>\n",
       "      <th>id</th>\n",
       "      <th>date</th>\n",
       "      <th>reviewer_id</th>\n",
       "      <th>reviewer_name</th>\n",
       "      <th>comments</th>\n",
       "    </tr>\n",
       "  </thead>\n",
       "  <tbody>\n",
       "    <tr>\n",
       "      <th>0</th>\n",
       "      <td>7202016</td>\n",
       "      <td>38917982</td>\n",
       "      <td>2015-07-19</td>\n",
       "      <td>28943674</td>\n",
       "      <td>Bianca</td>\n",
       "      <td>Cute and cozy place. Perfect location to every...</td>\n",
       "    </tr>\n",
       "    <tr>\n",
       "      <th>1</th>\n",
       "      <td>7202016</td>\n",
       "      <td>39087409</td>\n",
       "      <td>2015-07-20</td>\n",
       "      <td>32440555</td>\n",
       "      <td>Frank</td>\n",
       "      <td>Kelly has a great room in a very central locat...</td>\n",
       "    </tr>\n",
       "    <tr>\n",
       "      <th>2</th>\n",
       "      <td>7202016</td>\n",
       "      <td>39820030</td>\n",
       "      <td>2015-07-26</td>\n",
       "      <td>37722850</td>\n",
       "      <td>Ian</td>\n",
       "      <td>Very spacious apartment, and in a great neighb...</td>\n",
       "    </tr>\n",
       "  </tbody>\n",
       "</table>\n",
       "</div>"
      ],
      "text/plain": [
       "   listing_id        id        date  reviewer_id reviewer_name  \\\n",
       "0     7202016  38917982  2015-07-19     28943674        Bianca   \n",
       "1     7202016  39087409  2015-07-20     32440555         Frank   \n",
       "2     7202016  39820030  2015-07-26     37722850           Ian   \n",
       "\n",
       "                                            comments  \n",
       "0  Cute and cozy place. Perfect location to every...  \n",
       "1  Kelly has a great room in a very central locat...  \n",
       "2  Very spacious apartment, and in a great neighb...  "
      ]
     },
     "execution_count": 11,
     "metadata": {},
     "output_type": "execute_result"
    }
   ],
   "source": [
    "df_rev.head(3)"
   ]
  },
  {
   "cell_type": "code",
   "execution_count": 12,
   "id": "9ab90e81",
   "metadata": {},
   "outputs": [
    {
     "data": {
      "text/plain": [
       "(84849, 6)"
      ]
     },
     "execution_count": 12,
     "metadata": {},
     "output_type": "execute_result"
    }
   ],
   "source": [
    "df_rev.shape"
   ]
  },
  {
   "cell_type": "code",
   "execution_count": 13,
   "id": "90dd465c",
   "metadata": {},
   "outputs": [
    {
     "data": {
      "text/plain": [
       "listing_id        0\n",
       "id                0\n",
       "date              0\n",
       "reviewer_id       0\n",
       "reviewer_name     0\n",
       "comments         18\n",
       "dtype: int64"
      ]
     },
     "execution_count": 13,
     "metadata": {},
     "output_type": "execute_result"
    }
   ],
   "source": [
    "df_rev.isnull().sum()"
   ]
  },
  {
   "cell_type": "markdown",
   "id": "3a398a81",
   "metadata": {},
   "source": [
    "Reviews dataset has 84849 rows and 6 columns showing the comments of reviews to the properties"
   ]
  },
  {
   "cell_type": "markdown",
   "id": "fa18ebb3",
   "metadata": {},
   "source": [
    "## 3. Prepare Data"
   ]
  },
  {
   "cell_type": "markdown",
   "id": "2b165af2",
   "metadata": {},
   "source": [
    "### Data Wrangling "
   ]
  },
  {
   "cell_type": "markdown",
   "id": "02616fbc",
   "metadata": {},
   "source": [
    "#### Fixing data type and data values"
   ]
  },
  {
   "cell_type": "code",
   "execution_count": 14,
   "id": "eb4bc08e",
   "metadata": {},
   "outputs": [
    {
     "data": {
      "text/html": [
       "<div>\n",
       "<style scoped>\n",
       "    .dataframe tbody tr th:only-of-type {\n",
       "        vertical-align: middle;\n",
       "    }\n",
       "\n",
       "    .dataframe tbody tr th {\n",
       "        vertical-align: top;\n",
       "    }\n",
       "\n",
       "    .dataframe thead th {\n",
       "        text-align: right;\n",
       "    }\n",
       "</style>\n",
       "<table border=\"1\" class=\"dataframe\">\n",
       "  <thead>\n",
       "    <tr style=\"text-align: right;\">\n",
       "      <th></th>\n",
       "      <th>listing_id</th>\n",
       "      <th>date</th>\n",
       "      <th>available</th>\n",
       "      <th>price</th>\n",
       "    </tr>\n",
       "  </thead>\n",
       "  <tbody>\n",
       "    <tr>\n",
       "      <th>1316359</th>\n",
       "      <td>6865696</td>\n",
       "      <td>2016-06-21</td>\n",
       "      <td>t</td>\n",
       "      <td>$100.00</td>\n",
       "    </tr>\n",
       "    <tr>\n",
       "      <th>1313559</th>\n",
       "      <td>3041619</td>\n",
       "      <td>2016-10-19</td>\n",
       "      <td>f</td>\n",
       "      <td>NaN</td>\n",
       "    </tr>\n",
       "    <tr>\n",
       "      <th>935017</th>\n",
       "      <td>4454121</td>\n",
       "      <td>2016-09-12</td>\n",
       "      <td>f</td>\n",
       "      <td>NaN</td>\n",
       "    </tr>\n",
       "  </tbody>\n",
       "</table>\n",
       "</div>"
      ],
      "text/plain": [
       "         listing_id        date available    price\n",
       "1316359     6865696  2016-06-21         t  $100.00\n",
       "1313559     3041619  2016-10-19         f      NaN\n",
       "935017      4454121  2016-09-12         f      NaN"
      ]
     },
     "execution_count": 14,
     "metadata": {},
     "output_type": "execute_result"
    }
   ],
   "source": [
    "df_cal.sample(3)"
   ]
  },
  {
   "cell_type": "code",
   "execution_count": 15,
   "id": "bf96eaf3",
   "metadata": {},
   "outputs": [
    {
     "name": "stderr",
     "output_type": "stream",
     "text": [
      "C:\\Users\\HP\\AppData\\Local\\Temp\\ipykernel_20116\\559155783.py:3: FutureWarning: The default value of regex will change from True to False in a future version. In addition, single character regular expressions will *not* be treated as literal strings when regex=True.\n",
      "  df_cal['price'] = df_cal['price'].str.replace('$', '')\n"
     ]
    }
   ],
   "source": [
    "# Convert datatype\n",
    "df_cal['price'] = df_cal['price'].str.replace(',', '')\n",
    "df_cal['price'] = df_cal['price'].str.replace('$', '')\n",
    "df_cal['price'] = df_cal['price'].astype(float)"
   ]
  },
  {
   "cell_type": "code",
   "execution_count": 16,
   "id": "420a44b1",
   "metadata": {},
   "outputs": [],
   "source": [
    "#Convert column date to datetime\n",
    "df_cal['date'] = pd.to_datetime(df_cal['date'])"
   ]
  },
  {
   "cell_type": "code",
   "execution_count": 17,
   "id": "1b76e1dc",
   "metadata": {},
   "outputs": [],
   "source": [
    "# Convert column 'available' to a true/false\n",
    "df_cal['available'] = df_cal['available'] == 't'"
   ]
  },
  {
   "cell_type": "code",
   "execution_count": 18,
   "id": "81584fd0",
   "metadata": {},
   "outputs": [
    {
     "name": "stdout",
     "output_type": "stream",
     "text": [
      "<class 'pandas.core.frame.DataFrame'>\n",
      "RangeIndex: 1393570 entries, 0 to 1393569\n",
      "Data columns (total 4 columns):\n",
      " #   Column      Non-Null Count    Dtype         \n",
      "---  ------      --------------    -----         \n",
      " 0   listing_id  1393570 non-null  int64         \n",
      " 1   date        1393570 non-null  datetime64[ns]\n",
      " 2   available   1393570 non-null  bool          \n",
      " 3   price       934542 non-null   float64       \n",
      "dtypes: bool(1), datetime64[ns](1), float64(1), int64(1)\n",
      "memory usage: 33.2 MB\n"
     ]
    }
   ],
   "source": [
    "df_cal.info()"
   ]
  },
  {
   "cell_type": "markdown",
   "id": "cbf24512",
   "metadata": {},
   "source": [
    "#### Clean data\n",
    "Since price is analyzed, all missing values in column price will be dropped"
   ]
  },
  {
   "cell_type": "code",
   "execution_count": 19,
   "id": "974e0f55",
   "metadata": {},
   "outputs": [
    {
     "data": {
      "text/plain": [
       "(1393570, 4)"
      ]
     },
     "execution_count": 19,
     "metadata": {},
     "output_type": "execute_result"
    }
   ],
   "source": [
    "df_cal.shape"
   ]
  },
  {
   "cell_type": "code",
   "execution_count": 20,
   "id": "9fc964b1",
   "metadata": {},
   "outputs": [],
   "source": [
    "#Remove missing values in column price\n",
    "df_cal = df_cal.dropna(subset=[\"price\"])"
   ]
  },
  {
   "cell_type": "code",
   "execution_count": 21,
   "id": "4d5b2bd2",
   "metadata": {},
   "outputs": [
    {
     "data": {
      "text/plain": [
       "listing_id    0\n",
       "date          0\n",
       "available     0\n",
       "price         0\n",
       "dtype: int64"
      ]
     },
     "execution_count": 21,
     "metadata": {},
     "output_type": "execute_result"
    }
   ],
   "source": [
    "df_cal.isnull().sum()"
   ]
  },
  {
   "cell_type": "markdown",
   "id": "baf32376",
   "metadata": {},
   "source": [
    "#### Get needed columns from listings and reviews datasets"
   ]
  },
  {
   "cell_type": "code",
   "execution_count": 22,
   "id": "3d4080f9",
   "metadata": {},
   "outputs": [
    {
     "data": {
      "text/html": [
       "<div>\n",
       "<style scoped>\n",
       "    .dataframe tbody tr th:only-of-type {\n",
       "        vertical-align: middle;\n",
       "    }\n",
       "\n",
       "    .dataframe tbody tr th {\n",
       "        vertical-align: top;\n",
       "    }\n",
       "\n",
       "    .dataframe thead th {\n",
       "        text-align: right;\n",
       "    }\n",
       "</style>\n",
       "<table border=\"1\" class=\"dataframe\">\n",
       "  <thead>\n",
       "    <tr style=\"text-align: right;\">\n",
       "      <th></th>\n",
       "      <th>id</th>\n",
       "      <th>name</th>\n",
       "      <th>description</th>\n",
       "      <th>room_type</th>\n",
       "      <th>property_type</th>\n",
       "      <th>neighbourhood_group_cleansed</th>\n",
       "    </tr>\n",
       "  </thead>\n",
       "  <tbody>\n",
       "    <tr>\n",
       "      <th>3038</th>\n",
       "      <td>6690388</td>\n",
       "      <td>Cheerful, quiet cottage</td>\n",
       "      <td>Awake to birdsong, enjoy your morning tea or a...</td>\n",
       "      <td>Entire home/apt</td>\n",
       "      <td>House</td>\n",
       "      <td>Lake City</td>\n",
       "    </tr>\n",
       "    <tr>\n",
       "      <th>2635</th>\n",
       "      <td>4129218</td>\n",
       "      <td>Stylish  Studio Apt w/ Full Kitchen</td>\n",
       "      <td>On residential block just off Broadway w/ many...</td>\n",
       "      <td>Entire home/apt</td>\n",
       "      <td>Apartment</td>\n",
       "      <td>Capitol Hill</td>\n",
       "    </tr>\n",
       "    <tr>\n",
       "      <th>2274</th>\n",
       "      <td>9415562</td>\n",
       "      <td>Charming home close to downtown</td>\n",
       "      <td>Lovely craftsman style home in Mt baker neighb...</td>\n",
       "      <td>Private room</td>\n",
       "      <td>House</td>\n",
       "      <td>Rainier Valley</td>\n",
       "    </tr>\n",
       "  </tbody>\n",
       "</table>\n",
       "</div>"
      ],
      "text/plain": [
       "           id                                 name  \\\n",
       "3038  6690388              Cheerful, quiet cottage   \n",
       "2635  4129218  Stylish  Studio Apt w/ Full Kitchen   \n",
       "2274  9415562      Charming home close to downtown   \n",
       "\n",
       "                                            description        room_type  \\\n",
       "3038  Awake to birdsong, enjoy your morning tea or a...  Entire home/apt   \n",
       "2635  On residential block just off Broadway w/ many...  Entire home/apt   \n",
       "2274  Lovely craftsman style home in Mt baker neighb...     Private room   \n",
       "\n",
       "     property_type neighbourhood_group_cleansed  \n",
       "3038         House                    Lake City  \n",
       "2635     Apartment                 Capitol Hill  \n",
       "2274         House               Rainier Valley  "
      ]
     },
     "execution_count": 22,
     "metadata": {},
     "output_type": "execute_result"
    }
   ],
   "source": [
    "# Get needed columns from lists dataset\n",
    "df_lis = df_lis[['id','name', 'description','room_type', 'property_type', 'neighbourhood_group_cleansed']]\n",
    "df_lis.sample(3)"
   ]
  },
  {
   "cell_type": "code",
   "execution_count": 23,
   "id": "2734b77f",
   "metadata": {},
   "outputs": [],
   "source": [
    "#Rename columns\n",
    "df_lis = df_lis.rename(columns = {'id': 'listing_id', 'neighbourhood_group_cleansed': 'neighbourhood'})"
   ]
  },
  {
   "cell_type": "code",
   "execution_count": 24,
   "id": "dfed7c6e",
   "metadata": {},
   "outputs": [
    {
     "data": {
      "text/html": [
       "<div>\n",
       "<style scoped>\n",
       "    .dataframe tbody tr th:only-of-type {\n",
       "        vertical-align: middle;\n",
       "    }\n",
       "\n",
       "    .dataframe tbody tr th {\n",
       "        vertical-align: top;\n",
       "    }\n",
       "\n",
       "    .dataframe thead th {\n",
       "        text-align: right;\n",
       "    }\n",
       "</style>\n",
       "<table border=\"1\" class=\"dataframe\">\n",
       "  <thead>\n",
       "    <tr style=\"text-align: right;\">\n",
       "      <th></th>\n",
       "      <th>listing_id</th>\n",
       "      <th>comments</th>\n",
       "    </tr>\n",
       "  </thead>\n",
       "  <tbody>\n",
       "    <tr>\n",
       "      <th>80690</th>\n",
       "      <td>6780670</td>\n",
       "      <td>Talitha's place, more lovely than her photos d...</td>\n",
       "    </tr>\n",
       "    <tr>\n",
       "      <th>9014</th>\n",
       "      <td>6671901</td>\n",
       "      <td>Comfortable and clean apartment. Great locatio...</td>\n",
       "    </tr>\n",
       "    <tr>\n",
       "      <th>78193</th>\n",
       "      <td>3861673</td>\n",
       "      <td>Alles super. Wenn alle so wären wie Debbie, wü...</td>\n",
       "    </tr>\n",
       "  </tbody>\n",
       "</table>\n",
       "</div>"
      ],
      "text/plain": [
       "       listing_id                                           comments\n",
       "80690     6780670  Talitha's place, more lovely than her photos d...\n",
       "9014      6671901  Comfortable and clean apartment. Great locatio...\n",
       "78193     3861673  Alles super. Wenn alle so wären wie Debbie, wü..."
      ]
     },
     "execution_count": 24,
     "metadata": {},
     "output_type": "execute_result"
    }
   ],
   "source": [
    "# Get needed columns from reviews dataset\n",
    "df_rev = df_rev[['listing_id','comments']]\n",
    "df_rev.sample(3)"
   ]
  },
  {
   "cell_type": "code",
   "execution_count": 25,
   "id": "db5f621e",
   "metadata": {},
   "outputs": [
    {
     "data": {
      "text/html": [
       "<div>\n",
       "<style scoped>\n",
       "    .dataframe tbody tr th:only-of-type {\n",
       "        vertical-align: middle;\n",
       "    }\n",
       "\n",
       "    .dataframe tbody tr th {\n",
       "        vertical-align: top;\n",
       "    }\n",
       "\n",
       "    .dataframe thead th {\n",
       "        text-align: right;\n",
       "    }\n",
       "</style>\n",
       "<table border=\"1\" class=\"dataframe\">\n",
       "  <thead>\n",
       "    <tr style=\"text-align: right;\">\n",
       "      <th></th>\n",
       "      <th>listing_id</th>\n",
       "      <th>date</th>\n",
       "      <th>available</th>\n",
       "      <th>price</th>\n",
       "    </tr>\n",
       "  </thead>\n",
       "  <tbody>\n",
       "    <tr>\n",
       "      <th>0</th>\n",
       "      <td>241032</td>\n",
       "      <td>2016-01-04</td>\n",
       "      <td>True</td>\n",
       "      <td>85.0</td>\n",
       "    </tr>\n",
       "  </tbody>\n",
       "</table>\n",
       "</div>"
      ],
      "text/plain": [
       "   listing_id       date  available  price\n",
       "0      241032 2016-01-04       True   85.0"
      ]
     },
     "execution_count": 25,
     "metadata": {},
     "output_type": "execute_result"
    }
   ],
   "source": [
    "df_cal.head(1)"
   ]
  },
  {
   "cell_type": "markdown",
   "id": "ea789bfc",
   "metadata": {},
   "source": [
    "#### Merge datasets"
   ]
  },
  {
   "cell_type": "code",
   "execution_count": 26,
   "id": "cfe2383c",
   "metadata": {},
   "outputs": [],
   "source": [
    "df_merge = pd.merge(df_lis, df_cal, on=['listing_id', 'listing_id'])"
   ]
  },
  {
   "cell_type": "code",
   "execution_count": 27,
   "id": "9f6f39d8",
   "metadata": {},
   "outputs": [
    {
     "data": {
      "text/html": [
       "<div>\n",
       "<style scoped>\n",
       "    .dataframe tbody tr th:only-of-type {\n",
       "        vertical-align: middle;\n",
       "    }\n",
       "\n",
       "    .dataframe tbody tr th {\n",
       "        vertical-align: top;\n",
       "    }\n",
       "\n",
       "    .dataframe thead th {\n",
       "        text-align: right;\n",
       "    }\n",
       "</style>\n",
       "<table border=\"1\" class=\"dataframe\">\n",
       "  <thead>\n",
       "    <tr style=\"text-align: right;\">\n",
       "      <th></th>\n",
       "      <th>listing_id</th>\n",
       "      <th>name</th>\n",
       "      <th>description</th>\n",
       "      <th>room_type</th>\n",
       "      <th>property_type</th>\n",
       "      <th>neighbourhood</th>\n",
       "      <th>date</th>\n",
       "      <th>available</th>\n",
       "      <th>price</th>\n",
       "    </tr>\n",
       "  </thead>\n",
       "  <tbody>\n",
       "    <tr>\n",
       "      <th>0</th>\n",
       "      <td>241032</td>\n",
       "      <td>Stylish Queen Anne Apartment</td>\n",
       "      <td>Make your self at home in this charming one-be...</td>\n",
       "      <td>Entire home/apt</td>\n",
       "      <td>Apartment</td>\n",
       "      <td>Queen Anne</td>\n",
       "      <td>2016-01-04</td>\n",
       "      <td>True</td>\n",
       "      <td>85.0</td>\n",
       "    </tr>\n",
       "    <tr>\n",
       "      <th>1</th>\n",
       "      <td>241032</td>\n",
       "      <td>Stylish Queen Anne Apartment</td>\n",
       "      <td>Make your self at home in this charming one-be...</td>\n",
       "      <td>Entire home/apt</td>\n",
       "      <td>Apartment</td>\n",
       "      <td>Queen Anne</td>\n",
       "      <td>2016-01-05</td>\n",
       "      <td>True</td>\n",
       "      <td>85.0</td>\n",
       "    </tr>\n",
       "    <tr>\n",
       "      <th>2</th>\n",
       "      <td>241032</td>\n",
       "      <td>Stylish Queen Anne Apartment</td>\n",
       "      <td>Make your self at home in this charming one-be...</td>\n",
       "      <td>Entire home/apt</td>\n",
       "      <td>Apartment</td>\n",
       "      <td>Queen Anne</td>\n",
       "      <td>2016-01-13</td>\n",
       "      <td>True</td>\n",
       "      <td>85.0</td>\n",
       "    </tr>\n",
       "  </tbody>\n",
       "</table>\n",
       "</div>"
      ],
      "text/plain": [
       "   listing_id                          name  \\\n",
       "0      241032  Stylish Queen Anne Apartment   \n",
       "1      241032  Stylish Queen Anne Apartment   \n",
       "2      241032  Stylish Queen Anne Apartment   \n",
       "\n",
       "                                         description        room_type  \\\n",
       "0  Make your self at home in this charming one-be...  Entire home/apt   \n",
       "1  Make your self at home in this charming one-be...  Entire home/apt   \n",
       "2  Make your self at home in this charming one-be...  Entire home/apt   \n",
       "\n",
       "  property_type neighbourhood       date  available  price  \n",
       "0     Apartment    Queen Anne 2016-01-04       True   85.0  \n",
       "1     Apartment    Queen Anne 2016-01-05       True   85.0  \n",
       "2     Apartment    Queen Anne 2016-01-13       True   85.0  "
      ]
     },
     "execution_count": 27,
     "metadata": {},
     "output_type": "execute_result"
    }
   ],
   "source": [
    "df_merge.head(3)"
   ]
  },
  {
   "cell_type": "code",
   "execution_count": 28,
   "id": "64a1a640",
   "metadata": {},
   "outputs": [
    {
     "data": {
      "text/plain": [
       "(934542, 9)"
      ]
     },
     "execution_count": 28,
     "metadata": {},
     "output_type": "execute_result"
    }
   ],
   "source": [
    "df_merge.shape"
   ]
  },
  {
   "cell_type": "markdown",
   "id": "ecb745b8",
   "metadata": {},
   "source": [
    "####  Handle categorical datatype"
   ]
  },
  {
   "cell_type": "code",
   "execution_count": 29,
   "id": "198bd378",
   "metadata": {},
   "outputs": [],
   "source": [
    "# Convert column neighbourhood to categorical variable \n",
    "df_merge['neighbourhood'] = df_merge['neighbourhood'].astype('category')\n",
    "# Shorten 'other neighbourhoods' to 'other' for length in visualizations\n",
    "df_merge['neighbourhood'] = df_merge['neighbourhood'].replace('Other neighborhoods','Other')"
   ]
  },
  {
   "cell_type": "code",
   "execution_count": 30,
   "id": "0909429b",
   "metadata": {
    "scrolled": true
   },
   "outputs": [
    {
     "data": {
      "text/html": [
       "<div>\n",
       "<style scoped>\n",
       "    .dataframe tbody tr th:only-of-type {\n",
       "        vertical-align: middle;\n",
       "    }\n",
       "\n",
       "    .dataframe tbody tr th {\n",
       "        vertical-align: top;\n",
       "    }\n",
       "\n",
       "    .dataframe thead th {\n",
       "        text-align: right;\n",
       "    }\n",
       "</style>\n",
       "<table border=\"1\" class=\"dataframe\">\n",
       "  <thead>\n",
       "    <tr style=\"text-align: right;\">\n",
       "      <th></th>\n",
       "      <th>listing_id</th>\n",
       "      <th>price</th>\n",
       "    </tr>\n",
       "  </thead>\n",
       "  <tbody>\n",
       "    <tr>\n",
       "      <th>count</th>\n",
       "      <td>9.345420e+05</td>\n",
       "      <td>934542.000000</td>\n",
       "    </tr>\n",
       "    <tr>\n",
       "      <th>mean</th>\n",
       "      <td>5.305517e+06</td>\n",
       "      <td>137.944859</td>\n",
       "    </tr>\n",
       "    <tr>\n",
       "      <th>std</th>\n",
       "      <td>2.974821e+06</td>\n",
       "      <td>105.062870</td>\n",
       "    </tr>\n",
       "    <tr>\n",
       "      <th>min</th>\n",
       "      <td>3.335000e+03</td>\n",
       "      <td>10.000000</td>\n",
       "    </tr>\n",
       "    <tr>\n",
       "      <th>25%</th>\n",
       "      <td>2.875975e+06</td>\n",
       "      <td>75.000000</td>\n",
       "    </tr>\n",
       "    <tr>\n",
       "      <th>50%</th>\n",
       "      <td>5.615620e+06</td>\n",
       "      <td>109.000000</td>\n",
       "    </tr>\n",
       "    <tr>\n",
       "      <th>75%</th>\n",
       "      <td>7.873345e+06</td>\n",
       "      <td>160.000000</td>\n",
       "    </tr>\n",
       "    <tr>\n",
       "      <th>max</th>\n",
       "      <td>1.034016e+07</td>\n",
       "      <td>1650.000000</td>\n",
       "    </tr>\n",
       "  </tbody>\n",
       "</table>\n",
       "</div>"
      ],
      "text/plain": [
       "         listing_id          price\n",
       "count  9.345420e+05  934542.000000\n",
       "mean   5.305517e+06     137.944859\n",
       "std    2.974821e+06     105.062870\n",
       "min    3.335000e+03      10.000000\n",
       "25%    2.875975e+06      75.000000\n",
       "50%    5.615620e+06     109.000000\n",
       "75%    7.873345e+06     160.000000\n",
       "max    1.034016e+07    1650.000000"
      ]
     },
     "execution_count": 30,
     "metadata": {},
     "output_type": "execute_result"
    }
   ],
   "source": [
    "df_merge.describe()"
   ]
  },
  {
   "cell_type": "markdown",
   "id": "0ade5a7a",
   "metadata": {},
   "source": [
    "#### Answer the quetions"
   ]
  },
  {
   "cell_type": "markdown",
   "id": "22a01075",
   "metadata": {},
   "source": [
    "#### 1. What is the average price per night?"
   ]
  },
  {
   "cell_type": "code",
   "execution_count": 32,
   "id": "07180ff4",
   "metadata": {},
   "outputs": [],
   "source": [
    "# Define a function to get data according to day, month or year\n",
    "def getPrice(time): \n",
    "    \n",
    "    \"\"\" Get the aveage price based on time.\n",
    "      Args:\n",
    "          time (string):  if time = '%m' then the function will get price by month\n",
    "                          if time = '%Y' then the function will get price by year\n",
    "                          if time = '%w' then the function will get price by weekday\n",
    "\n",
    "      Returns:\n",
    "          float: The aveage price.\n",
    "      \"\"\"\n",
    "    avg_price = df_merge.groupby(df_merge['date'].dt.strftime(time))['price'].mean()\n",
    "    avg_price = pd.DataFrame(avg_price).reset_index()\n",
    "    avg_price['price'] = round(avg_price['price'],2)\n",
    "    return avg_price"
   ]
  },
  {
   "cell_type": "markdown",
   "id": "c2f1cf07",
   "metadata": {},
   "source": [
    "#### a. Monthly average price"
   ]
  },
  {
   "cell_type": "code",
   "execution_count": 33,
   "id": "074c116a",
   "metadata": {},
   "outputs": [
    {
     "data": {
      "text/html": [
       "<div>\n",
       "<style scoped>\n",
       "    .dataframe tbody tr th:only-of-type {\n",
       "        vertical-align: middle;\n",
       "    }\n",
       "\n",
       "    .dataframe tbody tr th {\n",
       "        vertical-align: top;\n",
       "    }\n",
       "\n",
       "    .dataframe thead th {\n",
       "        text-align: right;\n",
       "    }\n",
       "</style>\n",
       "<table border=\"1\" class=\"dataframe\">\n",
       "  <thead>\n",
       "    <tr style=\"text-align: right;\">\n",
       "      <th></th>\n",
       "      <th>Month</th>\n",
       "      <th>price</th>\n",
       "    </tr>\n",
       "  </thead>\n",
       "  <tbody>\n",
       "    <tr>\n",
       "      <th>0</th>\n",
       "      <td>01</td>\n",
       "      <td>122.91</td>\n",
       "    </tr>\n",
       "    <tr>\n",
       "      <th>1</th>\n",
       "      <td>02</td>\n",
       "      <td>124.29</td>\n",
       "    </tr>\n",
       "    <tr>\n",
       "      <th>2</th>\n",
       "      <td>03</td>\n",
       "      <td>128.64</td>\n",
       "    </tr>\n",
       "    <tr>\n",
       "      <th>3</th>\n",
       "      <td>04</td>\n",
       "      <td>135.10</td>\n",
       "    </tr>\n",
       "    <tr>\n",
       "      <th>4</th>\n",
       "      <td>05</td>\n",
       "      <td>139.54</td>\n",
       "    </tr>\n",
       "    <tr>\n",
       "      <th>5</th>\n",
       "      <td>06</td>\n",
       "      <td>147.47</td>\n",
       "    </tr>\n",
       "    <tr>\n",
       "      <th>6</th>\n",
       "      <td>07</td>\n",
       "      <td>152.09</td>\n",
       "    </tr>\n",
       "    <tr>\n",
       "      <th>7</th>\n",
       "      <td>08</td>\n",
       "      <td>150.66</td>\n",
       "    </tr>\n",
       "    <tr>\n",
       "      <th>8</th>\n",
       "      <td>09</td>\n",
       "      <td>143.26</td>\n",
       "    </tr>\n",
       "    <tr>\n",
       "      <th>9</th>\n",
       "      <td>10</td>\n",
       "      <td>137.03</td>\n",
       "    </tr>\n",
       "    <tr>\n",
       "      <th>10</th>\n",
       "      <td>11</td>\n",
       "      <td>135.69</td>\n",
       "    </tr>\n",
       "    <tr>\n",
       "      <th>11</th>\n",
       "      <td>12</td>\n",
       "      <td>137.25</td>\n",
       "    </tr>\n",
       "  </tbody>\n",
       "</table>\n",
       "</div>"
      ],
      "text/plain": [
       "   Month   price\n",
       "0     01  122.91\n",
       "1     02  124.29\n",
       "2     03  128.64\n",
       "3     04  135.10\n",
       "4     05  139.54\n",
       "5     06  147.47\n",
       "6     07  152.09\n",
       "7     08  150.66\n",
       "8     09  143.26\n",
       "9     10  137.03\n",
       "10    11  135.69\n",
       "11    12  137.25"
      ]
     },
     "execution_count": 33,
     "metadata": {},
     "output_type": "execute_result"
    }
   ],
   "source": [
    "# Monthly average price per night\n",
    "avg_price_month = getPrice('%m') #use user_defined function \n",
    "avg_price_month.rename(columns = {'date': 'Month'}, inplace = True)\n",
    "avg_price_month"
   ]
  },
  {
   "cell_type": "markdown",
   "id": "e8c1c525",
   "metadata": {},
   "source": [
    "#### b. Yearly average price"
   ]
  },
  {
   "cell_type": "code",
   "execution_count": 34,
   "id": "06e93ead",
   "metadata": {},
   "outputs": [
    {
     "data": {
      "text/html": [
       "<div>\n",
       "<style scoped>\n",
       "    .dataframe tbody tr th:only-of-type {\n",
       "        vertical-align: middle;\n",
       "    }\n",
       "\n",
       "    .dataframe tbody tr th {\n",
       "        vertical-align: top;\n",
       "    }\n",
       "\n",
       "    .dataframe thead th {\n",
       "        text-align: right;\n",
       "    }\n",
       "</style>\n",
       "<table border=\"1\" class=\"dataframe\">\n",
       "  <thead>\n",
       "    <tr style=\"text-align: right;\">\n",
       "      <th></th>\n",
       "      <th>Year</th>\n",
       "      <th>price</th>\n",
       "    </tr>\n",
       "  </thead>\n",
       "  <tbody>\n",
       "    <tr>\n",
       "      <th>0</th>\n",
       "      <td>2016</td>\n",
       "      <td>137.95</td>\n",
       "    </tr>\n",
       "    <tr>\n",
       "      <th>1</th>\n",
       "      <td>2017</td>\n",
       "      <td>136.88</td>\n",
       "    </tr>\n",
       "  </tbody>\n",
       "</table>\n",
       "</div>"
      ],
      "text/plain": [
       "   Year   price\n",
       "0  2016  137.95\n",
       "1  2017  136.88"
      ]
     },
     "execution_count": 34,
     "metadata": {},
     "output_type": "execute_result"
    }
   ],
   "source": [
    "# Yearly average price per year\n",
    "avg_price_year = getPrice('%Y')\n",
    "avg_price_year.rename(columns = {'date': 'Year'}, inplace = True)\n",
    "avg_price_year"
   ]
  },
  {
   "cell_type": "markdown",
   "id": "5f7d32a4",
   "metadata": {},
   "source": [
    "#### c. Weekday average price"
   ]
  },
  {
   "cell_type": "code",
   "execution_count": 35,
   "id": "70ec4aaa",
   "metadata": {},
   "outputs": [
    {
     "data": {
      "text/html": [
       "<div>\n",
       "<style scoped>\n",
       "    .dataframe tbody tr th:only-of-type {\n",
       "        vertical-align: middle;\n",
       "    }\n",
       "\n",
       "    .dataframe tbody tr th {\n",
       "        vertical-align: top;\n",
       "    }\n",
       "\n",
       "    .dataframe thead th {\n",
       "        text-align: right;\n",
       "    }\n",
       "</style>\n",
       "<table border=\"1\" class=\"dataframe\">\n",
       "  <thead>\n",
       "    <tr style=\"text-align: right;\">\n",
       "      <th></th>\n",
       "      <th>Day</th>\n",
       "      <th>price</th>\n",
       "    </tr>\n",
       "  </thead>\n",
       "  <tbody>\n",
       "    <tr>\n",
       "      <th>0</th>\n",
       "      <td>Mon</td>\n",
       "      <td>136.46</td>\n",
       "    </tr>\n",
       "    <tr>\n",
       "      <th>1</th>\n",
       "      <td>Tue</td>\n",
       "      <td>135.68</td>\n",
       "    </tr>\n",
       "    <tr>\n",
       "      <th>2</th>\n",
       "      <td>Wed</td>\n",
       "      <td>135.41</td>\n",
       "    </tr>\n",
       "    <tr>\n",
       "      <th>3</th>\n",
       "      <td>Thu</td>\n",
       "      <td>135.45</td>\n",
       "    </tr>\n",
       "    <tr>\n",
       "      <th>4</th>\n",
       "      <td>Fri</td>\n",
       "      <td>136.48</td>\n",
       "    </tr>\n",
       "    <tr>\n",
       "      <th>5</th>\n",
       "      <td>Sat</td>\n",
       "      <td>143.04</td>\n",
       "    </tr>\n",
       "    <tr>\n",
       "      <th>6</th>\n",
       "      <td>Sun</td>\n",
       "      <td>143.20</td>\n",
       "    </tr>\n",
       "  </tbody>\n",
       "</table>\n",
       "</div>"
      ],
      "text/plain": [
       "   Day   price\n",
       "0  Mon  136.46\n",
       "1  Tue  135.68\n",
       "2  Wed  135.41\n",
       "3  Thu  135.45\n",
       "4  Fri  136.48\n",
       "5  Sat  143.04\n",
       "6  Sun  143.20"
      ]
     },
     "execution_count": 35,
     "metadata": {},
     "output_type": "execute_result"
    }
   ],
   "source": [
    "# Weekday average price per year\n",
    "avg_price_day = getPrice('%w')\n",
    "avg_price_day['date'] = avg_price_day['date'].replace(['0','1','2','3','4','5','6'], ['Mon','Tue','Wed','Thu','Fri','Sat','Sun'])\n",
    "avg_price_day.rename(columns = {'date': 'Day'}, inplace = True)\n",
    "avg_price_day"
   ]
  },
  {
   "cell_type": "code",
   "execution_count": 36,
   "id": "6cd878a3",
   "metadata": {},
   "outputs": [
    {
     "data": {
      "text/html": [
       "<div>\n",
       "<style scoped>\n",
       "    .dataframe tbody tr th:only-of-type {\n",
       "        vertical-align: middle;\n",
       "    }\n",
       "\n",
       "    .dataframe tbody tr th {\n",
       "        vertical-align: top;\n",
       "    }\n",
       "\n",
       "    .dataframe thead th {\n",
       "        text-align: right;\n",
       "    }\n",
       "</style>\n",
       "<table border=\"1\" class=\"dataframe\">\n",
       "  <thead>\n",
       "    <tr style=\"text-align: right;\">\n",
       "      <th></th>\n",
       "      <th>listing_id</th>\n",
       "      <th>name</th>\n",
       "      <th>description</th>\n",
       "      <th>room_type</th>\n",
       "      <th>property_type</th>\n",
       "      <th>neighbourhood</th>\n",
       "      <th>date</th>\n",
       "      <th>available</th>\n",
       "      <th>price</th>\n",
       "    </tr>\n",
       "  </thead>\n",
       "  <tbody>\n",
       "    <tr>\n",
       "      <th>0</th>\n",
       "      <td>241032</td>\n",
       "      <td>Stylish Queen Anne Apartment</td>\n",
       "      <td>Make your self at home in this charming one-be...</td>\n",
       "      <td>Entire home/apt</td>\n",
       "      <td>Apartment</td>\n",
       "      <td>Queen Anne</td>\n",
       "      <td>2016-01-04</td>\n",
       "      <td>True</td>\n",
       "      <td>85.0</td>\n",
       "    </tr>\n",
       "  </tbody>\n",
       "</table>\n",
       "</div>"
      ],
      "text/plain": [
       "   listing_id                          name  \\\n",
       "0      241032  Stylish Queen Anne Apartment   \n",
       "\n",
       "                                         description        room_type  \\\n",
       "0  Make your self at home in this charming one-be...  Entire home/apt   \n",
       "\n",
       "  property_type neighbourhood       date  available  price  \n",
       "0     Apartment    Queen Anne 2016-01-04       True   85.0  "
      ]
     },
     "execution_count": 36,
     "metadata": {},
     "output_type": "execute_result"
    }
   ],
   "source": [
    "df_merge.head(1)"
   ]
  },
  {
   "cell_type": "markdown",
   "id": "d88e7163",
   "metadata": {},
   "source": [
    "#### 2. What are the busiest month of the year?"
   ]
  },
  {
   "cell_type": "code",
   "execution_count": 37,
   "id": "d3040c8d",
   "metadata": {},
   "outputs": [
    {
     "data": {
      "text/html": [
       "<div>\n",
       "<style scoped>\n",
       "    .dataframe tbody tr th:only-of-type {\n",
       "        vertical-align: middle;\n",
       "    }\n",
       "\n",
       "    .dataframe tbody tr th {\n",
       "        vertical-align: top;\n",
       "    }\n",
       "\n",
       "    .dataframe thead th {\n",
       "        text-align: right;\n",
       "    }\n",
       "</style>\n",
       "<table border=\"1\" class=\"dataframe\">\n",
       "  <thead>\n",
       "    <tr style=\"text-align: right;\">\n",
       "      <th></th>\n",
       "      <th>Month</th>\n",
       "      <th>Count</th>\n",
       "    </tr>\n",
       "  </thead>\n",
       "  <tbody>\n",
       "    <tr>\n",
       "      <th>0</th>\n",
       "      <td>2016-01</td>\n",
       "      <td>59239</td>\n",
       "    </tr>\n",
       "    <tr>\n",
       "      <th>1</th>\n",
       "      <td>2016-02</td>\n",
       "      <td>73321</td>\n",
       "    </tr>\n",
       "    <tr>\n",
       "      <th>2</th>\n",
       "      <td>2016-03</td>\n",
       "      <td>83938</td>\n",
       "    </tr>\n",
       "    <tr>\n",
       "      <th>3</th>\n",
       "      <td>2016-04</td>\n",
       "      <td>76037</td>\n",
       "    </tr>\n",
       "    <tr>\n",
       "      <th>4</th>\n",
       "      <td>2016-05</td>\n",
       "      <td>79971</td>\n",
       "    </tr>\n",
       "    <tr>\n",
       "      <th>5</th>\n",
       "      <td>2016-06</td>\n",
       "      <td>77244</td>\n",
       "    </tr>\n",
       "    <tr>\n",
       "      <th>6</th>\n",
       "      <td>2016-07</td>\n",
       "      <td>74222</td>\n",
       "    </tr>\n",
       "    <tr>\n",
       "      <th>7</th>\n",
       "      <td>2016-08</td>\n",
       "      <td>76347</td>\n",
       "    </tr>\n",
       "    <tr>\n",
       "      <th>8</th>\n",
       "      <td>2016-09</td>\n",
       "      <td>77246</td>\n",
       "    </tr>\n",
       "    <tr>\n",
       "      <th>9</th>\n",
       "      <td>2016-10</td>\n",
       "      <td>82438</td>\n",
       "    </tr>\n",
       "    <tr>\n",
       "      <th>10</th>\n",
       "      <td>2016-11</td>\n",
       "      <td>81780</td>\n",
       "    </tr>\n",
       "    <tr>\n",
       "      <th>11</th>\n",
       "      <td>2016-12</td>\n",
       "      <td>87061</td>\n",
       "    </tr>\n",
       "    <tr>\n",
       "      <th>12</th>\n",
       "      <td>2017-01</td>\n",
       "      <td>5698</td>\n",
       "    </tr>\n",
       "  </tbody>\n",
       "</table>\n",
       "</div>"
      ],
      "text/plain": [
       "      Month  Count\n",
       "0   2016-01  59239\n",
       "1   2016-02  73321\n",
       "2   2016-03  83938\n",
       "3   2016-04  76037\n",
       "4   2016-05  79971\n",
       "5   2016-06  77244\n",
       "6   2016-07  74222\n",
       "7   2016-08  76347\n",
       "8   2016-09  77246\n",
       "9   2016-10  82438\n",
       "10  2016-11  81780\n",
       "11  2016-12  87061\n",
       "12  2017-01   5698"
      ]
     },
     "execution_count": 37,
     "metadata": {},
     "output_type": "execute_result"
    }
   ],
   "source": [
    "df_visit = df_merge.groupby(df_merge['date'].dt.strftime('%Y-%m'))['listing_id'].count()\n",
    "df_visit = pd.DataFrame(df_visit).reset_index()\n",
    "df_visit = df_visit.rename(columns = {'date':'Month', 'listing_id':'Count'})\n",
    "df_visit"
   ]
  },
  {
   "cell_type": "markdown",
   "id": "d4472ed6",
   "metadata": {},
   "source": [
    "#### 3. What kind of rooms are there and how many room are there in each?"
   ]
  },
  {
   "cell_type": "code",
   "execution_count": 38,
   "id": "89c2890a",
   "metadata": {},
   "outputs": [
    {
     "data": {
      "text/html": [
       "<div>\n",
       "<style scoped>\n",
       "    .dataframe tbody tr th:only-of-type {\n",
       "        vertical-align: middle;\n",
       "    }\n",
       "\n",
       "    .dataframe tbody tr th {\n",
       "        vertical-align: top;\n",
       "    }\n",
       "\n",
       "    .dataframe thead th {\n",
       "        text-align: right;\n",
       "    }\n",
       "</style>\n",
       "<table border=\"1\" class=\"dataframe\">\n",
       "  <thead>\n",
       "    <tr style=\"text-align: right;\">\n",
       "      <th></th>\n",
       "      <th>room_type</th>\n",
       "      <th>Count</th>\n",
       "    </tr>\n",
       "  </thead>\n",
       "  <tbody>\n",
       "    <tr>\n",
       "      <th>0</th>\n",
       "      <td>Entire home/apt</td>\n",
       "      <td>2541</td>\n",
       "    </tr>\n",
       "    <tr>\n",
       "      <th>1</th>\n",
       "      <td>Private room</td>\n",
       "      <td>1160</td>\n",
       "    </tr>\n",
       "    <tr>\n",
       "      <th>2</th>\n",
       "      <td>Shared room</td>\n",
       "      <td>117</td>\n",
       "    </tr>\n",
       "  </tbody>\n",
       "</table>\n",
       "</div>"
      ],
      "text/plain": [
       "         room_type  Count\n",
       "0  Entire home/apt   2541\n",
       "1     Private room   1160\n",
       "2      Shared room    117"
      ]
     },
     "execution_count": 38,
     "metadata": {},
     "output_type": "execute_result"
    }
   ],
   "source": [
    "df_room_type = df_lis.groupby('room_type')['listing_id'].count()\n",
    "df_room_type = pd.DataFrame(df_room_type).reset_index()\n",
    "df_room_type = df_room_type.rename(columns = {'listing_id': 'Count'})\n",
    "df_room_type"
   ]
  },
  {
   "cell_type": "markdown",
   "id": "ebb78f8b",
   "metadata": {},
   "source": [
    "#### 4. What are the average price of room types?"
   ]
  },
  {
   "cell_type": "code",
   "execution_count": 39,
   "id": "12c3985a",
   "metadata": {},
   "outputs": [
    {
     "data": {
      "text/html": [
       "<div>\n",
       "<style scoped>\n",
       "    .dataframe tbody tr th:only-of-type {\n",
       "        vertical-align: middle;\n",
       "    }\n",
       "\n",
       "    .dataframe tbody tr th {\n",
       "        vertical-align: top;\n",
       "    }\n",
       "\n",
       "    .dataframe thead th {\n",
       "        text-align: right;\n",
       "    }\n",
       "</style>\n",
       "<table border=\"1\" class=\"dataframe\">\n",
       "  <thead>\n",
       "    <tr style=\"text-align: right;\">\n",
       "      <th></th>\n",
       "      <th>room_type</th>\n",
       "      <th>avg_price</th>\n",
       "    </tr>\n",
       "  </thead>\n",
       "  <tbody>\n",
       "    <tr>\n",
       "      <th>0</th>\n",
       "      <td>Entire home/apt</td>\n",
       "      <td>173.47</td>\n",
       "    </tr>\n",
       "    <tr>\n",
       "      <th>1</th>\n",
       "      <td>Private room</td>\n",
       "      <td>79.35</td>\n",
       "    </tr>\n",
       "    <tr>\n",
       "      <th>2</th>\n",
       "      <td>Shared room</td>\n",
       "      <td>48.43</td>\n",
       "    </tr>\n",
       "  </tbody>\n",
       "</table>\n",
       "</div>"
      ],
      "text/plain": [
       "         room_type  avg_price\n",
       "0  Entire home/apt     173.47\n",
       "1     Private room      79.35\n",
       "2      Shared room      48.43"
      ]
     },
     "execution_count": 39,
     "metadata": {},
     "output_type": "execute_result"
    }
   ],
   "source": [
    "df_room_type_price = df_merge.groupby('room_type')['price'].mean()\n",
    "df_room_type_price = pd.DataFrame(df_room_type_price).reset_index()\n",
    "df_room_type_price = df_room_type_price.rename(columns = {'price': 'avg_price'})\n",
    "df_room_type_price.avg_price = round(df_room_type_price.avg_price, 2)\n",
    "df_room_type_price"
   ]
  },
  {
   "cell_type": "markdown",
   "id": "0cfe5021",
   "metadata": {},
   "source": [
    "#### 5. What kind of properties are there and how many propertis are there in each?"
   ]
  },
  {
   "cell_type": "code",
   "execution_count": 40,
   "id": "45220876",
   "metadata": {},
   "outputs": [
    {
     "data": {
      "text/plain": [
       "House              436641\n",
       "Apartment          407603\n",
       "Townhouse           27155\n",
       "Condominium         19226\n",
       "Loft                 9891\n",
       "Bed & Breakfast      9862\n",
       "Other                6952\n",
       "Cabin                5082\n",
       "Camper/RV            3423\n",
       "Bungalow             3307\n",
       "Boat                 2275\n",
       "Tent                  874\n",
       "Treehouse             673\n",
       "Chalet                666\n",
       "Dorm                  426\n",
       "Yurt                  177\n",
       "Name: property_type, dtype: int64"
      ]
     },
     "execution_count": 40,
     "metadata": {},
     "output_type": "execute_result"
    }
   ],
   "source": [
    "# Number of listings of each property type\n",
    "df_property = df_merge[\"property_type\"].value_counts()\n",
    "df_property"
   ]
  },
  {
   "cell_type": "markdown",
   "id": "92e07620",
   "metadata": {},
   "source": [
    "#### 6. What are the average prices for the different room and property types?"
   ]
  },
  {
   "cell_type": "code",
   "execution_count": 41,
   "id": "4e0c2090",
   "metadata": {},
   "outputs": [
    {
     "data": {
      "text/html": [
       "<div>\n",
       "<style scoped>\n",
       "    .dataframe tbody tr th:only-of-type {\n",
       "        vertical-align: middle;\n",
       "    }\n",
       "\n",
       "    .dataframe tbody tr th {\n",
       "        vertical-align: top;\n",
       "    }\n",
       "\n",
       "    .dataframe thead th {\n",
       "        text-align: right;\n",
       "    }\n",
       "</style>\n",
       "<table border=\"1\" class=\"dataframe\">\n",
       "  <thead>\n",
       "    <tr style=\"text-align: right;\">\n",
       "      <th></th>\n",
       "      <th>property_type</th>\n",
       "      <th>room_type</th>\n",
       "      <th>avg_price</th>\n",
       "    </tr>\n",
       "  </thead>\n",
       "  <tbody>\n",
       "    <tr>\n",
       "      <th>6</th>\n",
       "      <td>Boat</td>\n",
       "      <td>Entire home/apt</td>\n",
       "      <td>526.88</td>\n",
       "    </tr>\n",
       "    <tr>\n",
       "      <th>32</th>\n",
       "      <td>Townhouse</td>\n",
       "      <td>Entire home/apt</td>\n",
       "      <td>219.94</td>\n",
       "    </tr>\n",
       "    <tr>\n",
       "      <th>21</th>\n",
       "      <td>House</td>\n",
       "      <td>Entire home/apt</td>\n",
       "      <td>207.01</td>\n",
       "    </tr>\n",
       "    <tr>\n",
       "      <th>35</th>\n",
       "      <td>Treehouse</td>\n",
       "      <td>Entire home/apt</td>\n",
       "      <td>200.00</td>\n",
       "    </tr>\n",
       "    <tr>\n",
       "      <th>17</th>\n",
       "      <td>Condominium</td>\n",
       "      <td>Entire home/apt</td>\n",
       "      <td>199.53</td>\n",
       "    </tr>\n",
       "  </tbody>\n",
       "</table>\n",
       "</div>"
      ],
      "text/plain": [
       "   property_type        room_type  avg_price\n",
       "6           Boat  Entire home/apt     526.88\n",
       "32     Townhouse  Entire home/apt     219.94\n",
       "21         House  Entire home/apt     207.01\n",
       "35     Treehouse  Entire home/apt     200.00\n",
       "17   Condominium  Entire home/apt     199.53"
      ]
     },
     "execution_count": 41,
     "metadata": {},
     "output_type": "execute_result"
    }
   ],
   "source": [
    "room_property_price = df_merge.groupby(['property_type','room_type']).price.mean()\n",
    "room_property_price = room_property_price.reset_index()\n",
    "room_property_price = room_property_price.rename(columns = {'price': 'avg_price'})\n",
    "room_property_price.avg_price = round(room_property_price.avg_price, 2)\n",
    "room_property_price=room_property_price.sort_values('avg_price',ascending=False)\n",
    "room_property_price.head()"
   ]
  },
  {
   "cell_type": "markdown",
   "id": "eca58e49",
   "metadata": {},
   "source": [
    "#### 7. What are the average prices for the different room types and weekday?"
   ]
  },
  {
   "cell_type": "code",
   "execution_count": 42,
   "id": "c5298c62",
   "metadata": {},
   "outputs": [
    {
     "data": {
      "text/html": [
       "<div>\n",
       "<style scoped>\n",
       "    .dataframe tbody tr th:only-of-type {\n",
       "        vertical-align: middle;\n",
       "    }\n",
       "\n",
       "    .dataframe tbody tr th {\n",
       "        vertical-align: top;\n",
       "    }\n",
       "\n",
       "    .dataframe thead th {\n",
       "        text-align: right;\n",
       "    }\n",
       "</style>\n",
       "<table border=\"1\" class=\"dataframe\">\n",
       "  <thead>\n",
       "    <tr style=\"text-align: right;\">\n",
       "      <th></th>\n",
       "      <th>Day</th>\n",
       "      <th>room_type</th>\n",
       "      <th>avg_price</th>\n",
       "    </tr>\n",
       "  </thead>\n",
       "  <tbody>\n",
       "    <tr>\n",
       "      <th>0</th>\n",
       "      <td>Mon</td>\n",
       "      <td>Entire home/apt</td>\n",
       "      <td>171.54</td>\n",
       "    </tr>\n",
       "    <tr>\n",
       "      <th>1</th>\n",
       "      <td>Mon</td>\n",
       "      <td>Private room</td>\n",
       "      <td>78.42</td>\n",
       "    </tr>\n",
       "    <tr>\n",
       "      <th>2</th>\n",
       "      <td>Mon</td>\n",
       "      <td>Shared room</td>\n",
       "      <td>47.96</td>\n",
       "    </tr>\n",
       "    <tr>\n",
       "      <th>3</th>\n",
       "      <td>Tue</td>\n",
       "      <td>Entire home/apt</td>\n",
       "      <td>170.47</td>\n",
       "    </tr>\n",
       "    <tr>\n",
       "      <th>4</th>\n",
       "      <td>Tue</td>\n",
       "      <td>Private room</td>\n",
       "      <td>78.20</td>\n",
       "    </tr>\n",
       "    <tr>\n",
       "      <th>5</th>\n",
       "      <td>Tue</td>\n",
       "      <td>Shared room</td>\n",
       "      <td>47.90</td>\n",
       "    </tr>\n",
       "    <tr>\n",
       "      <th>6</th>\n",
       "      <td>Wed</td>\n",
       "      <td>Entire home/apt</td>\n",
       "      <td>170.14</td>\n",
       "    </tr>\n",
       "    <tr>\n",
       "      <th>7</th>\n",
       "      <td>Wed</td>\n",
       "      <td>Private room</td>\n",
       "      <td>78.13</td>\n",
       "    </tr>\n",
       "    <tr>\n",
       "      <th>8</th>\n",
       "      <td>Wed</td>\n",
       "      <td>Shared room</td>\n",
       "      <td>47.88</td>\n",
       "    </tr>\n",
       "    <tr>\n",
       "      <th>9</th>\n",
       "      <td>Thu</td>\n",
       "      <td>Entire home/apt</td>\n",
       "      <td>170.23</td>\n",
       "    </tr>\n",
       "    <tr>\n",
       "      <th>10</th>\n",
       "      <td>Thu</td>\n",
       "      <td>Private room</td>\n",
       "      <td>78.16</td>\n",
       "    </tr>\n",
       "    <tr>\n",
       "      <th>11</th>\n",
       "      <td>Thu</td>\n",
       "      <td>Shared room</td>\n",
       "      <td>47.89</td>\n",
       "    </tr>\n",
       "    <tr>\n",
       "      <th>12</th>\n",
       "      <td>Fri</td>\n",
       "      <td>Entire home/apt</td>\n",
       "      <td>171.81</td>\n",
       "    </tr>\n",
       "    <tr>\n",
       "      <th>13</th>\n",
       "      <td>Fri</td>\n",
       "      <td>Private room</td>\n",
       "      <td>78.35</td>\n",
       "    </tr>\n",
       "    <tr>\n",
       "      <th>14</th>\n",
       "      <td>Fri</td>\n",
       "      <td>Shared room</td>\n",
       "      <td>47.90</td>\n",
       "    </tr>\n",
       "    <tr>\n",
       "      <th>15</th>\n",
       "      <td>Sat</td>\n",
       "      <td>Entire home/apt</td>\n",
       "      <td>180.03</td>\n",
       "    </tr>\n",
       "    <tr>\n",
       "      <th>16</th>\n",
       "      <td>Sat</td>\n",
       "      <td>Private room</td>\n",
       "      <td>82.09</td>\n",
       "    </tr>\n",
       "    <tr>\n",
       "      <th>17</th>\n",
       "      <td>Sat</td>\n",
       "      <td>Shared room</td>\n",
       "      <td>49.75</td>\n",
       "    </tr>\n",
       "    <tr>\n",
       "      <th>18</th>\n",
       "      <td>Sun</td>\n",
       "      <td>Entire home/apt</td>\n",
       "      <td>180.19</td>\n",
       "    </tr>\n",
       "    <tr>\n",
       "      <th>19</th>\n",
       "      <td>Sun</td>\n",
       "      <td>Private room</td>\n",
       "      <td>82.18</td>\n",
       "    </tr>\n",
       "    <tr>\n",
       "      <th>20</th>\n",
       "      <td>Sun</td>\n",
       "      <td>Shared room</td>\n",
       "      <td>49.74</td>\n",
       "    </tr>\n",
       "  </tbody>\n",
       "</table>\n",
       "</div>"
      ],
      "text/plain": [
       "    Day        room_type  avg_price\n",
       "0   Mon  Entire home/apt     171.54\n",
       "1   Mon     Private room      78.42\n",
       "2   Mon      Shared room      47.96\n",
       "3   Tue  Entire home/apt     170.47\n",
       "4   Tue     Private room      78.20\n",
       "5   Tue      Shared room      47.90\n",
       "6   Wed  Entire home/apt     170.14\n",
       "7   Wed     Private room      78.13\n",
       "8   Wed      Shared room      47.88\n",
       "9   Thu  Entire home/apt     170.23\n",
       "10  Thu     Private room      78.16\n",
       "11  Thu      Shared room      47.89\n",
       "12  Fri  Entire home/apt     171.81\n",
       "13  Fri     Private room      78.35\n",
       "14  Fri      Shared room      47.90\n",
       "15  Sat  Entire home/apt     180.03\n",
       "16  Sat     Private room      82.09\n",
       "17  Sat      Shared room      49.75\n",
       "18  Sun  Entire home/apt     180.19\n",
       "19  Sun     Private room      82.18\n",
       "20  Sun      Shared room      49.74"
      ]
     },
     "execution_count": 42,
     "metadata": {},
     "output_type": "execute_result"
    }
   ],
   "source": [
    "avg_price_room_day = df_merge.groupby([df_merge['date'].dt.strftime('%w'), 'room_type'])['price'].mean()\n",
    "avg_price_room_day = avg_price_room_day.reset_index()\n",
    "avg_price_room_day.price = round(avg_price_room_day.price, 2)\n",
    "avg_price_room_day['date'] = avg_price_room_day['date'].replace(['0','1','2','3','4','5','6'], ['Mon','Tue','Wed','Thu','Fri','Sat','Sun'])\n",
    "avg_price_room_day.rename(columns = {'date': 'Day', 'price':'avg_price'}, inplace = True)\n",
    "\n",
    "avg_price_room_day"
   ]
  },
  {
   "cell_type": "markdown",
   "id": "0727c128",
   "metadata": {},
   "source": [
    "## 4. Result Evaluation"
   ]
  },
  {
   "cell_type": "markdown",
   "id": "ad08bdb0",
   "metadata": {},
   "source": [
    "#### Data Visualizations"
   ]
  },
  {
   "cell_type": "markdown",
   "id": "35751c80",
   "metadata": {},
   "source": [
    "#### 1. What is the average price per night?"
   ]
  },
  {
   "cell_type": "code",
   "execution_count": 43,
   "id": "0f0d9812",
   "metadata": {},
   "outputs": [],
   "source": [
    "def set_plot_info(title, xaxis, yaxis):\n",
    "    plt.title = title\n",
    "    plt.xlabel = xaxis\n",
    "    plt.ylabel = yaxis"
   ]
  },
  {
   "cell_type": "markdown",
   "id": "576234a2",
   "metadata": {},
   "source": [
    "#### a. Monthly average price"
   ]
  },
  {
   "cell_type": "code",
   "execution_count": 44,
   "id": "6356d82d",
   "metadata": {
    "scrolled": true
   },
   "outputs": [
    {
     "data": {
      "text/plain": [
       "<BarContainer object of 12 artists>"
      ]
     },
     "execution_count": 44,
     "metadata": {},
     "output_type": "execute_result"
    },
    {
     "data": {
      "image/png": "[encoded data removed]",
      "text/plain": [
       "<Figure size 640x480 with 1 Axes>"
      ]
     },
     "metadata": {},
     "output_type": "display_data"
    }
   ],
   "source": [
    "plt.bar(avg_price_month.Month , avg_price_month.price)\n"
   ]
  },
  {
   "cell_type": "markdown",
   "id": "b9db9fd8",
   "metadata": {},
   "source": [
    "From the bar plot, we can see that, the price in moths 7 and 8 are the highest, and then, months 6 and 9. This mean, peope tend to travel alot in summer."
   ]
  },
  {
   "cell_type": "markdown",
   "id": "0f6e9ce7",
   "metadata": {},
   "source": [
    "#### Weekday average price"
   ]
  },
  {
   "cell_type": "code",
   "execution_count": 45,
   "id": "a5e34087",
   "metadata": {},
   "outputs": [
    {
     "data": {
      "text/plain": [
       "<Axes: xlabel='Day', ylabel='price'>"
      ]
     },
     "execution_count": 45,
     "metadata": {},
     "output_type": "execute_result"
    },
    {
     "data": {
      "image/png": "[encoded data removed]",
      "text/plain": [
       "<Figure size 640x480 with 1 Axes>"
      ]
     },
     "metadata": {},
     "output_type": "display_data"
    }
   ],
   "source": [
    "sn.lineplot(data=avg_price_day, x=\"Day\", y=\"price\")\n"
   ]
  },
  {
   "cell_type": "markdown",
   "id": "f9b480c1",
   "metadata": {},
   "source": [
    "It can be seen that, the price increase sharply at weekend."
   ]
  },
  {
   "cell_type": "markdown",
   "id": "11a477c0",
   "metadata": {},
   "source": [
    "#### 2. What are the busiest month of the year?"
   ]
  },
  {
   "cell_type": "code",
   "execution_count": 46,
   "id": "b9037d62",
   "metadata": {},
   "outputs": [
    {
     "data": {
      "text/plain": [
       "([0, 1, 2, 3, 4, 5, 6, 7, 8, 9, 10, 11, 12],\n",
       " [Text(0, 0, '2016-01'),\n",
       "  Text(1, 0, '2016-02'),\n",
       "  Text(2, 0, '2016-03'),\n",
       "  Text(3, 0, '2016-04'),\n",
       "  Text(4, 0, '2016-05'),\n",
       "  Text(5, 0, '2016-06'),\n",
       "  Text(6, 0, '2016-07'),\n",
       "  Text(7, 0, '2016-08'),\n",
       "  Text(8, 0, '2016-09'),\n",
       "  Text(9, 0, '2016-10'),\n",
       "  Text(10, 0, '2016-11'),\n",
       "  Text(11, 0, '2016-12'),\n",
       "  Text(12, 0, '2017-01')])"
      ]
     },
     "execution_count": 46,
     "metadata": {},
     "output_type": "execute_result"
    },
    {
     "data": {
      "image/png": "[encoded data removed]",
      "text/plain": [
       "<Figure size 640x480 with 1 Axes>"
      ]
     },
     "metadata": {},
     "output_type": "display_data"
    }
   ],
   "source": [
    "sn.lineplot(data=df_visit , x=\"Month\", y=\"Count\")\n",
    "plt.xticks(rotation = 15)"
   ]
  },
  {
   "cell_type": "markdown",
   "id": "76dcf50e",
   "metadata": {},
   "source": [
    "#### 3. What kind of properties are there and how many propertis are there in each?"
   ]
  },
  {
   "cell_type": "code",
   "execution_count": 47,
   "id": "d9d085d3",
   "metadata": {},
   "outputs": [
    {
     "data": {
      "text/plain": [
       "(array([ 0,  1,  2,  3,  4,  5,  6,  7,  8,  9, 10, 11, 12, 13, 14, 15]),\n",
       " [Text(0, 0, 'Apartment'),\n",
       "  Text(1, 0, 'House'),\n",
       "  Text(2, 0, 'Cabin'),\n",
       "  Text(3, 0, 'Condominium'),\n",
       "  Text(4, 0, 'Camper/RV'),\n",
       "  Text(5, 0, 'Bungalow'),\n",
       "  Text(6, 0, 'Townhouse'),\n",
       "  Text(7, 0, 'Loft'),\n",
       "  Text(8, 0, 'Boat'),\n",
       "  Text(9, 0, 'Bed & Breakfast'),\n",
       "  Text(10, 0, 'Other'),\n",
       "  Text(11, 0, 'Dorm'),\n",
       "  Text(12, 0, 'Treehouse'),\n",
       "  Text(13, 0, 'Yurt'),\n",
       "  Text(14, 0, 'Chalet'),\n",
       "  Text(15, 0, 'Tent')])"
      ]
     },
     "execution_count": 47,
     "metadata": {},
     "output_type": "execute_result"
    },
    {
     "data": {
      "image/png": "[encoded data removed]",
      "text/plain": [
       "<Figure size 640x480 with 1 Axes>"
      ]
     },
     "metadata": {},
     "output_type": "display_data"
    }
   ],
   "source": [
    "sn.countplot(data=df_merge, x = 'property_type')\n",
    "plt.xticks(rotation = 90)"
   ]
  },
  {
   "cell_type": "markdown",
   "id": "8d5d096e",
   "metadata": {},
   "source": [
    "There are many types of properties. Among these, Apartment and House are the most popular."
   ]
  },
  {
   "cell_type": "markdown",
   "id": "6b208ec7",
   "metadata": {},
   "source": [
    "#### 4. What are the average prices for the different room and property types?"
   ]
  },
  {
   "cell_type": "code",
   "execution_count": 48,
   "id": "a3461df4",
   "metadata": {},
   "outputs": [
    {
     "data": {
      "text/plain": [
       "<Axes: xlabel='room_type', ylabel='property_type'>"
      ]
     },
     "execution_count": 48,
     "metadata": {},
     "output_type": "execute_result"
    },
    {
     "data": {
      "image/png": "[encoded data removed]",
      "text/plain": [
       "<Figure size 1000x1800 with 2 Axes>"
      ]
     },
     "metadata": {},
     "output_type": "display_data"
    }
   ],
   "source": [
    "plt.figure(figsize = (10,18))\n",
    "sn.heatmap(room_property_price.groupby(['property_type', 'room_type']).avg_price.mean().unstack(), annot=True, fmt=\".0f\", \n",
    "           cmap = sn.cm.rocket_r,cbar_kws={'label': 'avg_price'})"
   ]
  },
  {
   "cell_type": "markdown",
   "id": "7d5caf64",
   "metadata": {},
   "source": [
    "The heatmap plot shows the prices of room types and property types. We can see that room type 'Entire home/apt' of Boat is the most expensive, reach at 527usd per night. Room type Share room of two properties types Loft and Tent have the lowwest price, at 25usd per night."
   ]
  },
  {
   "cell_type": "markdown",
   "id": "b4df8c6d",
   "metadata": {},
   "source": [
    "#### 5. What are the average prices for the different room types and weekday?"
   ]
  },
  {
   "cell_type": "code",
   "execution_count": 49,
   "id": "f1b649f5",
   "metadata": {},
   "outputs": [
    {
     "data": {
      "text/html": [
       "<div>\n",
       "<style scoped>\n",
       "    .dataframe tbody tr th:only-of-type {\n",
       "        vertical-align: middle;\n",
       "    }\n",
       "\n",
       "    .dataframe tbody tr th {\n",
       "        vertical-align: top;\n",
       "    }\n",
       "\n",
       "    .dataframe thead th {\n",
       "        text-align: right;\n",
       "    }\n",
       "</style>\n",
       "<table border=\"1\" class=\"dataframe\">\n",
       "  <thead>\n",
       "    <tr style=\"text-align: right;\">\n",
       "      <th></th>\n",
       "      <th>Day</th>\n",
       "      <th>room_type</th>\n",
       "      <th>avg_price</th>\n",
       "    </tr>\n",
       "  </thead>\n",
       "  <tbody>\n",
       "    <tr>\n",
       "      <th>0</th>\n",
       "      <td>Mon</td>\n",
       "      <td>Entire home/apt</td>\n",
       "      <td>171.54</td>\n",
       "    </tr>\n",
       "    <tr>\n",
       "      <th>1</th>\n",
       "      <td>Mon</td>\n",
       "      <td>Private room</td>\n",
       "      <td>78.42</td>\n",
       "    </tr>\n",
       "    <tr>\n",
       "      <th>2</th>\n",
       "      <td>Mon</td>\n",
       "      <td>Shared room</td>\n",
       "      <td>47.96</td>\n",
       "    </tr>\n",
       "    <tr>\n",
       "      <th>3</th>\n",
       "      <td>Tue</td>\n",
       "      <td>Entire home/apt</td>\n",
       "      <td>170.47</td>\n",
       "    </tr>\n",
       "    <tr>\n",
       "      <th>4</th>\n",
       "      <td>Tue</td>\n",
       "      <td>Private room</td>\n",
       "      <td>78.20</td>\n",
       "    </tr>\n",
       "    <tr>\n",
       "      <th>5</th>\n",
       "      <td>Tue</td>\n",
       "      <td>Shared room</td>\n",
       "      <td>47.90</td>\n",
       "    </tr>\n",
       "    <tr>\n",
       "      <th>6</th>\n",
       "      <td>Wed</td>\n",
       "      <td>Entire home/apt</td>\n",
       "      <td>170.14</td>\n",
       "    </tr>\n",
       "    <tr>\n",
       "      <th>7</th>\n",
       "      <td>Wed</td>\n",
       "      <td>Private room</td>\n",
       "      <td>78.13</td>\n",
       "    </tr>\n",
       "    <tr>\n",
       "      <th>8</th>\n",
       "      <td>Wed</td>\n",
       "      <td>Shared room</td>\n",
       "      <td>47.88</td>\n",
       "    </tr>\n",
       "    <tr>\n",
       "      <th>9</th>\n",
       "      <td>Thu</td>\n",
       "      <td>Entire home/apt</td>\n",
       "      <td>170.23</td>\n",
       "    </tr>\n",
       "    <tr>\n",
       "      <th>10</th>\n",
       "      <td>Thu</td>\n",
       "      <td>Private room</td>\n",
       "      <td>78.16</td>\n",
       "    </tr>\n",
       "    <tr>\n",
       "      <th>11</th>\n",
       "      <td>Thu</td>\n",
       "      <td>Shared room</td>\n",
       "      <td>47.89</td>\n",
       "    </tr>\n",
       "    <tr>\n",
       "      <th>12</th>\n",
       "      <td>Fri</td>\n",
       "      <td>Entire home/apt</td>\n",
       "      <td>171.81</td>\n",
       "    </tr>\n",
       "    <tr>\n",
       "      <th>13</th>\n",
       "      <td>Fri</td>\n",
       "      <td>Private room</td>\n",
       "      <td>78.35</td>\n",
       "    </tr>\n",
       "    <tr>\n",
       "      <th>14</th>\n",
       "      <td>Fri</td>\n",
       "      <td>Shared room</td>\n",
       "      <td>47.90</td>\n",
       "    </tr>\n",
       "    <tr>\n",
       "      <th>15</th>\n",
       "      <td>Sat</td>\n",
       "      <td>Entire home/apt</td>\n",
       "      <td>180.03</td>\n",
       "    </tr>\n",
       "    <tr>\n",
       "      <th>16</th>\n",
       "      <td>Sat</td>\n",
       "      <td>Private room</td>\n",
       "      <td>82.09</td>\n",
       "    </tr>\n",
       "    <tr>\n",
       "      <th>17</th>\n",
       "      <td>Sat</td>\n",
       "      <td>Shared room</td>\n",
       "      <td>49.75</td>\n",
       "    </tr>\n",
       "    <tr>\n",
       "      <th>18</th>\n",
       "      <td>Sun</td>\n",
       "      <td>Entire home/apt</td>\n",
       "      <td>180.19</td>\n",
       "    </tr>\n",
       "    <tr>\n",
       "      <th>19</th>\n",
       "      <td>Sun</td>\n",
       "      <td>Private room</td>\n",
       "      <td>82.18</td>\n",
       "    </tr>\n",
       "    <tr>\n",
       "      <th>20</th>\n",
       "      <td>Sun</td>\n",
       "      <td>Shared room</td>\n",
       "      <td>49.74</td>\n",
       "    </tr>\n",
       "  </tbody>\n",
       "</table>\n",
       "</div>"
      ],
      "text/plain": [
       "    Day        room_type  avg_price\n",
       "0   Mon  Entire home/apt     171.54\n",
       "1   Mon     Private room      78.42\n",
       "2   Mon      Shared room      47.96\n",
       "3   Tue  Entire home/apt     170.47\n",
       "4   Tue     Private room      78.20\n",
       "5   Tue      Shared room      47.90\n",
       "6   Wed  Entire home/apt     170.14\n",
       "7   Wed     Private room      78.13\n",
       "8   Wed      Shared room      47.88\n",
       "9   Thu  Entire home/apt     170.23\n",
       "10  Thu     Private room      78.16\n",
       "11  Thu      Shared room      47.89\n",
       "12  Fri  Entire home/apt     171.81\n",
       "13  Fri     Private room      78.35\n",
       "14  Fri      Shared room      47.90\n",
       "15  Sat  Entire home/apt     180.03\n",
       "16  Sat     Private room      82.09\n",
       "17  Sat      Shared room      49.75\n",
       "18  Sun  Entire home/apt     180.19\n",
       "19  Sun     Private room      82.18\n",
       "20  Sun      Shared room      49.74"
      ]
     },
     "execution_count": 49,
     "metadata": {},
     "output_type": "execute_result"
    }
   ],
   "source": [
    "avg_price_room_day"
   ]
  },
  {
   "cell_type": "code",
   "execution_count": 50,
   "id": "b841b578",
   "metadata": {},
   "outputs": [
    {
     "data": {
      "text/plain": [
       "<Axes: xlabel='Day', ylabel='avg_price'>"
      ]
     },
     "execution_count": 50,
     "metadata": {},
     "output_type": "execute_result"
    },
    {
     "data": {
      "image/png": "[encoded data removed]",
      "text/plain": [
       "<Figure size 640x480 with 1 Axes>"
      ]
     },
     "metadata": {},
     "output_type": "display_data"
    }
   ],
   "source": [
    "sn.barplot(avg_price_room_day, x=\"Day\", y=\"avg_price\", hue=\"room_type\")"
   ]
  },
  {
   "cell_type": "markdown",
   "id": "3b0917c6",
   "metadata": {},
   "source": [
    "We can see that, the price of Entire/home at the weekend increase. This means, People like travelling at the weekend with their faimily."
   ]
  },
  {
   "cell_type": "code",
   "execution_count": null,
   "id": "f198160c",
   "metadata": {},
   "outputs": [],
   "source": []
  }
 ],
 "metadata": {
  "kernelspec": {
   "display_name": "Python 3 (ipykernel)",
   "language": "python",
   "name": "python3"
  },
  "language_info": {
   "codemirror_mode": {
    "name": "ipython",
    "version": 3
   },
   "file_extension": ".py",
   "mimetype": "text/x-python",
   "name": "python",
   "nbconvert_exporter": "python",
   "pygments_lexer": "ipython3",
   "version": "3.11.3"
  }
 },
 "nbformat": 4,
 "nbformat_minor": 5
}
